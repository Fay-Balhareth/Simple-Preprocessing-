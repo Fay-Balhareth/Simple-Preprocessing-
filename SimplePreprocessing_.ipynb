{
  "nbformat": 4,
  "nbformat_minor": 0,
  "metadata": {
    "colab": {
      "provenance": []
    },
    "kernelspec": {
      "name": "python3",
      "display_name": "Python 3"
    },
    "language_info": {
      "name": "python"
    }
  },
  "cells": [
    {
      "cell_type": "code",
      "execution_count": null,
      "metadata": {
        "id": "KW_Ann_Kf3O0"
      },
      "outputs": [],
      "source": [
        "import pandas as pd\n",
        "import numpy as np\n",
        "from sklearn.preprocessing import MinMaxScaler"
      ]
    },
    {
      "cell_type": "code",
      "source": [
        "data = {\n",
        "    'Student_ID': [1, 2, 3, 4, 5],\n",
        "    'Name': ['Norah', 'Mohammed', 'Faisal', 'Ali', 'Lama'],\n",
        "    'Age': [19, 20, 'unknown', 'unknown', 21],\n",
        "    'Gender': ['Female', 'Male', 'Male', 'Male', 'Female'],\n",
        "    'Score': [85, 92, 78, 88, 'unknown']\n",
        "}"
      ],
      "metadata": {
        "id": "gV_x6QT-f-vH"
      },
      "execution_count": null,
      "outputs": []
    },
    {
      "cell_type": "code",
      "source": [
        "# Task 1: Load the dataset into a Pandas DataFrame\n",
        "df = pd.DataFrame(data)"
      ],
      "metadata": {
        "id": "l6i-_7fpgJeG"
      },
      "execution_count": null,
      "outputs": []
    },
    {
      "cell_type": "code",
      "source": [
        "print(df.head())"
      ],
      "metadata": {
        "colab": {
          "base_uri": "https://localhost:8080/"
        },
        "id": "AkCtoMJdg2Ed",
        "outputId": "a83a660c-5625-46bb-ba16-f6711eb15526"
      },
      "execution_count": null,
      "outputs": [
        {
          "output_type": "stream",
          "name": "stdout",
          "text": [
            "   Student_ID      Name      Age  Gender    Score\n",
            "0           1     Norah       19  Female       85\n",
            "1           2  Mohammed       20    Male       92\n",
            "2           3    Faisal  unknown    Male       78\n",
            "3           4       Ali  unknown    Male       88\n",
            "4           5      Lama       21  Female  unknown\n"
          ]
        }
      ]
    },
    {
      "cell_type": "code",
      "source": [
        "# Task 2: Drop Columns that Aren't Useful\n",
        "df.drop('Student_ID', axis=1, inplace=True)"
      ],
      "metadata": {
        "id": "f-hbDrv2hj_d"
      },
      "execution_count": null,
      "outputs": []
    },
    {
      "cell_type": "code",
      "source": [
        "print(df.head())"
      ],
      "metadata": {
        "colab": {
          "base_uri": "https://localhost:8080/"
        },
        "id": "Qa8B1MOMho7F",
        "outputId": "919e440b-0cf1-44ab-c05c-e9b680c29da4"
      },
      "execution_count": null,
      "outputs": [
        {
          "output_type": "stream",
          "name": "stdout",
          "text": [
            "       Name      Age  Gender    Score\n",
            "0     Norah       19  Female       85\n",
            "1  Mohammed       20    Male       92\n",
            "2    Faisal  unknown    Male       78\n",
            "3       Ali  unknown    Male       88\n",
            "4      Lama       21  Female  unknown\n"
          ]
        }
      ]
    },
    {
      "cell_type": "code",
      "source": [
        "# Task 3: Handle Missing Values, replace unknown with NaN, Count missing values in each column and print the result\n",
        "df.replace('unknown', np.nan, inplace=True)\n",
        "missing_values = df.isnull().sum()\n",
        "print(missing_values)"
      ],
      "metadata": {
        "colab": {
          "base_uri": "https://localhost:8080/"
        },
        "id": "Tm0Xqpj6hs53",
        "outputId": "62e60c92-d376-4774-b34d-69f7b4a01691"
      },
      "execution_count": null,
      "outputs": [
        {
          "output_type": "stream",
          "name": "stdout",
          "text": [
            "Name      0\n",
            "Age       2\n",
            "Gender    0\n",
            "Score     1\n",
            "dtype: int64\n"
          ]
        }
      ]
    },
    {
      "cell_type": "code",
      "source": [
        "print(df.head())"
      ],
      "metadata": {
        "colab": {
          "base_uri": "https://localhost:8080/"
        },
        "id": "IgLzWWIahyj7",
        "outputId": "44c8ccaf-ea91-4bf2-e459-27866fc3062d"
      },
      "execution_count": null,
      "outputs": [
        {
          "output_type": "stream",
          "name": "stdout",
          "text": [
            "       Name   Age  Gender  Score\n",
            "0     Norah  19.0  Female   85.0\n",
            "1  Mohammed  20.0    Male   92.0\n",
            "2    Faisal   NaN    Male   78.0\n",
            "3       Ali   NaN    Male   88.0\n",
            "4      Lama  21.0  Female    NaN\n"
          ]
        }
      ]
    },
    {
      "cell_type": "code",
      "source": [
        "# Task 4: Fill missing values in 'Age' and 'Score' with the mean, method -> mean()\n",
        "df['Age'].fillna(df['Age'].mean(), inplace=True)\n",
        "df['Score'].fillna(df['Score'].mean(), inplace=True)"
      ],
      "metadata": {
        "id": "rT2fbKQ5h1kZ"
      },
      "execution_count": null,
      "outputs": []
    },
    {
      "cell_type": "code",
      "source": [
        "print(df.head())"
      ],
      "metadata": {
        "colab": {
          "base_uri": "https://localhost:8080/"
        },
        "id": "63xFyxNah5pO",
        "outputId": "3696c600-3c7a-405a-dbfb-46c50ac34c8a"
      },
      "execution_count": null,
      "outputs": [
        {
          "output_type": "stream",
          "name": "stdout",
          "text": [
            "       Name   Age  Gender  Score\n",
            "0     Norah  19.0  Female  85.00\n",
            "1  Mohammed  20.0    Male  92.00\n",
            "2    Faisal  20.0    Male  78.00\n",
            "3       Ali  20.0    Male  88.00\n",
            "4      Lama  21.0  Female  85.75\n"
          ]
        }
      ]
    },
    {
      "cell_type": "code",
      "source": [
        "# Task 5: Convert Categorical Values to Numeric for gender column\n",
        "df['Gender'] = df['Gender'].map({'Male': 0, 'Female': 1})"
      ],
      "metadata": {
        "id": "C7MIbpS_iHe9"
      },
      "execution_count": null,
      "outputs": []
    },
    {
      "cell_type": "code",
      "source": [
        "print(df.head())"
      ],
      "metadata": {
        "colab": {
          "base_uri": "https://localhost:8080/"
        },
        "id": "viNIh1v-iosC",
        "outputId": "8f6fa103-8c28-46b6-b286-571ef5ad8310"
      },
      "execution_count": null,
      "outputs": [
        {
          "output_type": "stream",
          "name": "stdout",
          "text": [
            "       Name   Age  Gender  Score\n",
            "0     Norah  19.0       1  85.00\n",
            "1  Mohammed  20.0       0  92.00\n",
            "2    Faisal  20.0       0  78.00\n",
            "3       Ali  20.0       0  88.00\n",
            "4      Lama  21.0       1  85.75\n"
          ]
        }
      ]
    },
    {
      "cell_type": "code",
      "source": [
        "# Task 6: Apply Feature Scaling/Normalization for age and score columns using MinMaxScaler\n",
        "scaler = MinMaxScaler()\n",
        "df[['Age', 'Score']] = scaler.fit_transform(df[['Age', 'Score']])"
      ],
      "metadata": {
        "id": "h89qT0E5i-lB"
      },
      "execution_count": null,
      "outputs": []
    },
    {
      "cell_type": "code",
      "source": [
        "print(df.head())"
      ],
      "metadata": {
        "colab": {
          "base_uri": "https://localhost:8080/"
        },
        "id": "qx-SXz6IjB8r",
        "outputId": "8445b03c-7461-4e22-a7d5-089623dc15a8"
      },
      "execution_count": null,
      "outputs": [
        {
          "output_type": "stream",
          "name": "stdout",
          "text": [
            "       Name  Age  Gender     Score\n",
            "0     Norah  0.0       1  0.500000\n",
            "1  Mohammed  0.5       0  1.000000\n",
            "2    Faisal  0.5       0  0.000000\n",
            "3       Ali  0.5       0  0.714286\n",
            "4      Lama  1.0       1  0.553571\n"
          ]
        }
      ]
    }
  ]
}